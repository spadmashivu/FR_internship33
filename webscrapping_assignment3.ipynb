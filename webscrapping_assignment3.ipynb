{
 "cells": [
  {
   "cell_type": "markdown",
   "id": "5a0949c4",
   "metadata": {},
   "source": [
    "WEB SCRAPING ASSIGNMENT 3\n"
   ]
  },
  {
   "cell_type": "markdown",
   "id": "809b16df",
   "metadata": {},
   "source": [
    "PROBLEM STATEMENT\n",
    "\n",
    "1.Write a python program which searches all the product under a particular product vertical from www.amazon.in. The product verticals to be searched will be taken as input from user. For e.g. If user input is ‘guitar’. Then search for guitars.\n",
    "\n",
    "2.In the above question, now scrape the following details of each product listed in first 3 pages of your search results and save it in a dataframe and csv. In case if any product vertical has less than 3 pages in search results then scrape all the products available under that product vertical. Details to be scraped are: \"Brand Name\", \"Name of the Product\", \"Rating\", \"No. of Ratings\", \"Price\", \"Return/Exchange\", \"Expected Delivery\", \"Availability\", \"Other Details\" and “Product URL”. In case, if any of the details are missing for any of the product then replace it by “-“.\n",
    "\n"
   ]
  },
  {
   "cell_type": "code",
   "execution_count": 74,
   "id": "fb23abd4",
   "metadata": {},
   "outputs": [
    {
     "name": "stdout",
     "output_type": "stream",
     "text": [
      "Requirement already satisfied: selenium in c:\\users\\91939\\anaconda3\\lib\\site-packages (4.5.0)\n",
      "Requirement already satisfied: trio-websocket~=0.9 in c:\\users\\91939\\anaconda3\\lib\\site-packages (from selenium) (0.9.2)\n",
      "Requirement already satisfied: urllib3[socks]~=1.26 in c:\\users\\91939\\anaconda3\\lib\\site-packages (from selenium) (1.26.9)\n",
      "Requirement already satisfied: trio~=0.17 in c:\\users\\91939\\anaconda3\\lib\\site-packages (from selenium) (0.22.0)\n",
      "Requirement already satisfied: certifi>=2021.10.8 in c:\\users\\91939\\anaconda3\\lib\\site-packages (from selenium) (2021.10.8)\n",
      "Requirement already satisfied: sniffio in c:\\users\\91939\\anaconda3\\lib\\site-packages (from trio~=0.17->selenium) (1.2.0)\n",
      "Requirement already satisfied: idna in c:\\users\\91939\\anaconda3\\lib\\site-packages (from trio~=0.17->selenium) (3.3)\n",
      "Requirement already satisfied: outcome in c:\\users\\91939\\anaconda3\\lib\\site-packages (from trio~=0.17->selenium) (1.2.0)\n",
      "Requirement already satisfied: attrs>=19.2.0 in c:\\users\\91939\\anaconda3\\lib\\site-packages (from trio~=0.17->selenium) (21.4.0)\n",
      "Requirement already satisfied: cffi>=1.14 in c:\\users\\91939\\anaconda3\\lib\\site-packages (from trio~=0.17->selenium) (1.15.0)\n",
      "Requirement already satisfied: async-generator>=1.9 in c:\\users\\91939\\anaconda3\\lib\\site-packages (from trio~=0.17->selenium) (1.10)\n",
      "Requirement already satisfied: sortedcontainers in c:\\users\\91939\\anaconda3\\lib\\site-packages (from trio~=0.17->selenium) (2.4.0)\n",
      "Requirement already satisfied: exceptiongroup>=1.0.0rc9 in c:\\users\\91939\\anaconda3\\lib\\site-packages (from trio~=0.17->selenium) (1.0.0)\n",
      "Requirement already satisfied: pycparser in c:\\users\\91939\\anaconda3\\lib\\site-packages (from cffi>=1.14->trio~=0.17->selenium) (2.21)\n",
      "Requirement already satisfied: wsproto>=0.14 in c:\\users\\91939\\anaconda3\\lib\\site-packages (from trio-websocket~=0.9->selenium) (1.2.0)\n",
      "Requirement already satisfied: PySocks!=1.5.7,<2.0,>=1.5.6 in c:\\users\\91939\\anaconda3\\lib\\site-packages (from urllib3[socks]~=1.26->selenium) (1.7.1)\n",
      "Requirement already satisfied: h11<1,>=0.9.0 in c:\\users\\91939\\anaconda3\\lib\\site-packages (from wsproto>=0.14->trio-websocket~=0.9->selenium) (0.14.0)\n"
     ]
    }
   ],
   "source": [
    "!pip install selenium\n"
   ]
  },
  {
   "cell_type": "code",
   "execution_count": 75,
   "id": "58e82a11",
   "metadata": {},
   "outputs": [],
   "source": [
    "#IMPORTING LIBRARIES\n",
    "import pandas as pd\n",
    "import numpy as np\n",
    "from selenium import webdriver\n",
    "import time\n",
    "from selenium.common.exceptions import NoSuchElementException\n",
    "from selenium.common.exceptions import StaleElementReferenceException \n",
    "from selenium.common.exceptions import ElementNotVisibleException\n",
    "from selenium.common.exceptions import ElementNotInteractableException\n",
    "from selenium.common.exceptions import SessionNotCreatedException\n",
    "from selenium.common.exceptions import TimeoutException\n",
    "from selenium.webdriver.support.ui import WebDriverWait\n",
    "from selenium.webdriver.support import expected_conditions as ec\n",
    "from selenium.webdriver.common.by import By\n",
    "import time\n",
    "import warnings\n",
    "warnings.filterwarnings('ignore')\n"
   ]
  },
  {
   "cell_type": "code",
   "execution_count": 104,
   "id": "bfe28377",
   "metadata": {},
   "outputs": [],
   "source": [
    "# Connect to web driver \n",
    "driver=webdriver.Chrome(r'C:\\Users\\91939\\Downloads\\selnium\\chromedriver.exe')\n"
   ]
  },
  {
   "cell_type": "code",
   "execution_count": 105,
   "id": "6cff88f5",
   "metadata": {},
   "outputs": [],
   "source": [
    "# 1.Getting url/web page.\n",
    "\n",
    "url= \"https://www.amazon.in/\"\n",
    "driver.get(url)\n"
   ]
  },
  {
   "cell_type": "code",
   "execution_count": 78,
   "id": "ad1aa7fd",
   "metadata": {},
   "outputs": [
    {
     "name": "stdout",
     "output_type": "stream",
     "text": [
      "Enter the product to be searched:guitar\n"
     ]
    }
   ],
   "source": [
    "# Creating a variable to save input variable.\n",
    "product_name= input('Enter the product to be searched:')\n"
   ]
  },
  {
   "cell_type": "code",
   "execution_count": 106,
   "id": "57a3645a",
   "metadata": {},
   "outputs": [
    {
     "ename": "AttributeError",
     "evalue": "'WebDriver' object has no attribute 'find_element_by_xpath'",
     "output_type": "error",
     "traceback": [
      "\u001b[1;31m---------------------------------------------------------------------------\u001b[0m",
      "\u001b[1;31mAttributeError\u001b[0m                            Traceback (most recent call last)",
      "Input \u001b[1;32mIn [106]\u001b[0m, in \u001b[0;36m<cell line: 3>\u001b[1;34m()\u001b[0m\n\u001b[0;32m      2\u001b[0m count\u001b[38;5;241m=\u001b[39m\u001b[38;5;241m0\u001b[39m\n\u001b[0;32m      3\u001b[0m \u001b[38;5;28;01mtry\u001b[39;00m:\n\u001b[1;32m----> 4\u001b[0m     \u001b[38;5;28;01mwhile\u001b[39;00m \u001b[43mdriver\u001b[49m\u001b[38;5;241;43m.\u001b[39;49m\u001b[43mfind_element_by_xpath\u001b[49m(\u001b[38;5;124m'\u001b[39m\u001b[38;5;124m//a[@class=\u001b[39m\u001b[38;5;124m\"\u001b[39m\u001b[38;5;124ms-pagination-item s-pagination-next s-pagination-button s-pagination-separator\u001b[39m\u001b[38;5;124m\"\u001b[39m\u001b[38;5;124m]\u001b[39m\u001b[38;5;124m'\u001b[39m):\n\u001b[0;32m      5\u001b[0m         count\u001b[38;5;241m+\u001b[39m\u001b[38;5;241m=\u001b[39m\u001b[38;5;241m1\u001b[39m\n\u001b[0;32m      6\u001b[0m         \u001b[38;5;28;01mfor\u001b[39;00m i \u001b[38;5;129;01min\u001b[39;00m driver\u001b[38;5;241m.\u001b[39mfind_elements_by_xpath(\u001b[38;5;124m'\u001b[39m\u001b[38;5;124m//div[@class=\u001b[39m\u001b[38;5;124m\"\u001b[39m\u001b[38;5;124ma-section a-spacing-base\u001b[39m\u001b[38;5;124m\"\u001b[39m\u001b[38;5;124m]\u001b[39m\u001b[38;5;124m'\u001b[39m):\n",
      "\u001b[1;31mAttributeError\u001b[0m: 'WebDriver' object has no attribute 'find_element_by_xpath'"
     ]
    }
   ],
   "source": [
    "data=[]\n",
    "count=0\n",
    "try:\n",
    "    while driver.find_element_by_xpath('//a[@class=\"s-pagination-item s-pagination-next s-pagination-button s-pagination-separator\"]'):\n",
    "        count+=1\n",
    "        for i in driver.find_elements_by_xpath('//div[@class=\"a-section a-spacing-base\"]'):\n",
    "            temp=i.text.replace('Sponsored','').replace('Deal of the Day','').replace('FREE Delivery by Amazon',\"\").split('\\n')\n",
    "            \n",
    "            data.append(temp)\n",
    "        driver.find_element_by_xpath('//a[@class=\"s-pagination-item s-pagination-next s-pagination-button s-pagination-separator\"]').click()\n",
    "        time.sleep(3)\n",
    "except NoSuchElementException as e:\n",
    "    df=pd.DataFrame(data)\n",
    "df\n"
   ]
  },
  {
   "cell_type": "code",
   "execution_count": 91,
   "id": "a8d50831",
   "metadata": {},
   "outputs": [
    {
     "ename": "AttributeError",
     "evalue": "'WebDriver' object has no attribute 'find_element_by_xpath'",
     "output_type": "error",
     "traceback": [
      "\u001b[1;31m---------------------------------------------------------------------------\u001b[0m",
      "\u001b[1;31mAttributeError\u001b[0m                            Traceback (most recent call last)",
      "Input \u001b[1;32mIn [91]\u001b[0m, in \u001b[0;36m<cell line: 1>\u001b[1;34m()\u001b[0m\n\u001b[1;32m----> 1\u001b[0m search \u001b[38;5;241m=\u001b[39m \u001b[43mdriver\u001b[49m\u001b[38;5;241;43m.\u001b[39;49m\u001b[43mfind_element_by_xpath\u001b[49m(\u001b[38;5;124m'\u001b[39m\u001b[38;5;124m//input[@id=\u001b[39m\u001b[38;5;124m\"\u001b[39m\u001b[38;5;124mtwotabsearchtextbox\u001b[39m\u001b[38;5;124m\"\u001b[39m\u001b[38;5;124m]\u001b[39m\u001b[38;5;124m'\u001b[39m)\n\u001b[0;32m      2\u001b[0m search\u001b[38;5;241m.\u001b[39msend_keys(user_ip)\n\u001b[0;32m      3\u001b[0m click_search \u001b[38;5;241m=\u001b[39m driver\u001b[38;5;241m.\u001b[39mfind_element_by_xpath(\u001b[38;5;124m'\u001b[39m\u001b[38;5;124m//input[@id=\u001b[39m\u001b[38;5;124m\"\u001b[39m\u001b[38;5;124mnav-search-submit-button\u001b[39m\u001b[38;5;124m\"\u001b[39m\u001b[38;5;124m]\u001b[39m\u001b[38;5;124m'\u001b[39m)\n",
      "\u001b[1;31mAttributeError\u001b[0m: 'WebDriver' object has no attribute 'find_element_by_xpath'"
     ]
    }
   ],
   "source": [
    "search = driver.find_element_by_xpath('//input[@id=\"twotabsearchtextbox\"]')\n",
    "search.send_keys(user_ip)\n",
    "click_search = driver.find_element_by_xpath('//input[@id=\"nav-search-submit-button\"]')\n",
    "click_search.click()\n"
   ]
  },
  {
   "cell_type": "code",
   "execution_count": 92,
   "id": "95d40842",
   "metadata": {},
   "outputs": [
    {
     "ename": "AttributeError",
     "evalue": "'WebDriver' object has no attribute 'find_element_by_id'",
     "output_type": "error",
     "traceback": [
      "\u001b[1;31m---------------------------------------------------------------------------\u001b[0m",
      "\u001b[1;31mAttributeError\u001b[0m                            Traceback (most recent call last)",
      "Input \u001b[1;32mIn [92]\u001b[0m, in \u001b[0;36m<cell line: 3>\u001b[1;34m()\u001b[0m\n\u001b[0;32m      1\u001b[0m \u001b[38;5;66;03m# Finding web element for search bar.\u001b[39;00m\n\u001b[1;32m----> 3\u001b[0m search_button\u001b[38;5;241m=\u001b[39m \u001b[43mdriver\u001b[49m\u001b[38;5;241;43m.\u001b[39;49m\u001b[43mfind_element_by_id\u001b[49m(\u001b[38;5;124m'\u001b[39m\u001b[38;5;124mtwotabsearchtextbox\u001b[39m\u001b[38;5;124m'\u001b[39m)\n\u001b[0;32m      5\u001b[0m \u001b[38;5;66;03m# write on search bar 'Data Analyst'\u001b[39;00m\n\u001b[0;32m      6\u001b[0m search_button\u001b[38;5;241m.\u001b[39msend_keys(product_name)\n",
      "\u001b[1;31mAttributeError\u001b[0m: 'WebDriver' object has no attribute 'find_element_by_id'"
     ]
    }
   ],
   "source": [
    "# Finding web element for search bar.\n",
    "\n",
    "search_button= driver.find_element_by_id('twotabsearchtextbox')\n",
    "\n",
    "# write on search bar 'Data Analyst'\n",
    "search_button.send_keys(product_name)\n",
    "\n",
    "time.sleep(4)  \n",
    "\n",
    "# 3.clicking the search button using XPATH function.\n",
    "search_button= driver.find_element_by_id(\"nav-search-submit-button\")\n",
    "search_button.click()\n",
    "\n"
   ]
  },
  {
   "cell_type": "code",
   "execution_count": 93,
   "id": "e2e4fe28",
   "metadata": {},
   "outputs": [],
   "source": [
    "#Lists\n",
    "brand=[]\n",
    "prod_name=[]\n",
    "rating=[]\n",
    "rating_num=[]\n",
    "price= []\n",
    "ret_ex=[]\n",
    "availability=[]\n",
    "prod_url=[]\n"
   ]
  },
  {
   "cell_type": "code",
   "execution_count": 94,
   "id": "d8524be4",
   "metadata": {},
   "outputs": [
    {
     "ename": "AttributeError",
     "evalue": "'WebDriver' object has no attribute 'find_elements_by_xpath'",
     "output_type": "error",
     "traceback": [
      "\u001b[1;31m---------------------------------------------------------------------------\u001b[0m",
      "\u001b[1;31mAttributeError\u001b[0m                            Traceback (most recent call last)",
      "Input \u001b[1;32mIn [94]\u001b[0m, in \u001b[0;36m<cell line: 3>\u001b[1;34m()\u001b[0m\n\u001b[0;32m      2\u001b[0m urls \u001b[38;5;241m=\u001b[39m[]\n\u001b[0;32m      3\u001b[0m \u001b[38;5;28;01mfor\u001b[39;00m i \u001b[38;5;129;01min\u001b[39;00m \u001b[38;5;28mrange\u001b[39m(\u001b[38;5;241m0\u001b[39m,\u001b[38;5;241m3\u001b[39m): \u001b[38;5;66;03m#upto 3 pages\u001b[39;00m\n\u001b[1;32m----> 4\u001b[0m     \u001b[38;5;28;01mfor\u001b[39;00m j \u001b[38;5;129;01min\u001b[39;00m \u001b[43mdriver\u001b[49m\u001b[38;5;241;43m.\u001b[39;49m\u001b[43mfind_elements_by_xpath\u001b[49m(\u001b[38;5;124m\"\u001b[39m\u001b[38;5;124m//a[@class=\u001b[39m\u001b[38;5;124m'\u001b[39m\u001b[38;5;124ma-link-normal a-text-normal\u001b[39m\u001b[38;5;124m'\u001b[39m\u001b[38;5;124m]\u001b[39m\u001b[38;5;124m\"\u001b[39m):\n\u001b[0;32m      5\u001b[0m         urls\u001b[38;5;241m.\u001b[39mappend(j\u001b[38;5;241m.\u001b[39mget_attribute(\u001b[38;5;124m'\u001b[39m\u001b[38;5;124mhref\u001b[39m\u001b[38;5;124m'\u001b[39m))\n\u001b[0;32m      6\u001b[0m     driver\u001b[38;5;241m.\u001b[39mfind_element_by_xpath(\u001b[38;5;124m\"\u001b[39m\u001b[38;5;124m//li[@class=\u001b[39m\u001b[38;5;124m'\u001b[39m\u001b[38;5;124ma-last\u001b[39m\u001b[38;5;124m'\u001b[39m\u001b[38;5;124m]/a\u001b[39m\u001b[38;5;124m\"\u001b[39m)\u001b[38;5;241m.\u001b[39mclick()\n",
      "\u001b[1;31mAttributeError\u001b[0m: 'WebDriver' object has no attribute 'find_elements_by_xpath'"
     ]
    }
   ],
   "source": [
    "# Fetching urls to open each page.\n",
    "urls =[]\n",
    "for i in range(0,3): #upto 3 pages\n",
    "    for j in driver.find_elements_by_xpath(\"//a[@class='a-link-normal a-text-normal']\"):\n",
    "        urls.append(j.get_attribute('href'))\n",
    "    driver.find_element_by_xpath(\"//li[@class='a-last']/a\").click()\n",
    "    time.sleep(4)\n"
   ]
  },
  {
   "cell_type": "code",
   "execution_count": 95,
   "id": "016c5bf9",
   "metadata": {},
   "outputs": [],
   "source": [
    "for i in urls[:150]: # each page contains 50 items, hence kept the number as 150 for 3 pages.\n",
    "    driver.get(i)\n",
    "    time.sleep(3)\n",
    "    \n",
    "    #fetching brand name\n",
    "    try:\n",
    "        brand_name=driver.find_element_by_xpath(\"//td[@class='a-span9']/span\")\n",
    "        brand.append(brand_name.text)\n",
    "    except NoSuchElementException:\n",
    "        brand.append('-')    \n",
    "        \n",
    "        \n",
    "      #fetching product name\n",
    "    try:\n",
    "        product=driver.find_element_by_id(\"productTitle\")\n",
    "        prod_name.append(product.text)\n",
    "    except NoSuchElementException:\n",
    "        prod_name.append('-') \n",
    "        \n",
    "        \n",
    "      #fetching rating\n",
    "    try:\n",
    "        ratestar=driver.find_element_by_xpath(\"//span[@class='a-size-base a-nowrap']//span\")#locating the rating\n",
    "        rating.append(ratestar.text)#appending the ratings in Ratings list\n",
    "    except NoSuchElementException:\n",
    "        rating.append(\"No Rating\") #appending the No rating if no rating is there\n",
    "        \n",
    "        \n",
    "        \n",
    "      #fetching rating number\n",
    "    try:\n",
    "        ratenum=driver.find_element_by_id(\"acrCustomerReviewText\")\n",
    "        rating_num.append(ratenum.text)\n",
    "    except NoSuchElementException:\n",
    "        rating_num.append('-') \n",
    "        \n",
    "        \n",
    "        \n",
    "      #fetching Price\n",
    "    try:\n",
    "        prod_price=driver.find_element_by_id(\"priceblock_ourprice\")\n",
    "        price.append(prod_price.text)\n",
    "    except NoSuchElementException:\n",
    "        price.append('-') \n",
    "        \n",
    "        \n",
    "        \n",
    "     #fetching Return/Exchange\n",
    "    try:\n",
    "        ret_exch=driver.find_element_by_xpath(\"//a[@class='a-size-small a-link-normal a-text-normal']\")\n",
    "        ret_ex.append(ret_exch.get_attribute(\"href\"))\n",
    "    except NoSuchElementException:\n",
    "        ret_ex.append('-') \n",
    "        \n",
    "           \n",
    "        \n",
    "       \n",
    "     #fetching Availability\n",
    "    try:\n",
    "        availa=driver.find_element_by_id(\"availability\")\n",
    "        availability.append(availa.text)\n",
    "    except NoSuchElementException:\n",
    "        availability.append('-') \n",
    "        \n",
    "        \n",
    "        \n",
    "           \n",
    "     #fetching Product URL\n",
    "    try:\n",
    "        pro_url=driver.find_element_by_xpath(\"//div[@class='a-section a-spacing-none icon-content']/a\")\n",
    "        prod_url.append(pro_url.get_attribute(\"href\"))\n",
    "    except NoSuchElementException:\n",
    "        prod_url.append('-') \n"
   ]
  },
  {
   "cell_type": "code",
   "execution_count": 96,
   "id": "dc9ab1bf",
   "metadata": {},
   "outputs": [],
   "source": [
    "# Finally create a dataframe of the scraped data.\n",
    "amazon_data =pd.DataFrame({})\n",
    "amazon_data['Brand Name'] = brand\n",
    "amazon_data['Product Name'] = prod_name\n",
    "amazon_data['Rating'] = rating\n",
    "amazon_data['Rating Number'] = rating_num\n",
    "amazon_data['Price'] = price\n",
    "amazon_data['Return/Exchange'] = ret_ex\n",
    "amazon_data['Availability'] = availability\n",
    "amazon_data['Product URL'] = prod_url\n"
   ]
  },
  {
   "cell_type": "code",
   "execution_count": 97,
   "id": "0fa21289",
   "metadata": {},
   "outputs": [
    {
     "data": {
      "text/html": [
       "<div>\n",
       "<style scoped>\n",
       "    .dataframe tbody tr th:only-of-type {\n",
       "        vertical-align: middle;\n",
       "    }\n",
       "\n",
       "    .dataframe tbody tr th {\n",
       "        vertical-align: top;\n",
       "    }\n",
       "\n",
       "    .dataframe thead th {\n",
       "        text-align: right;\n",
       "    }\n",
       "</style>\n",
       "<table border=\"1\" class=\"dataframe\">\n",
       "  <thead>\n",
       "    <tr style=\"text-align: right;\">\n",
       "      <th></th>\n",
       "      <th>Brand Name</th>\n",
       "      <th>Product Name</th>\n",
       "      <th>Rating</th>\n",
       "      <th>Rating Number</th>\n",
       "      <th>Price</th>\n",
       "      <th>Return/Exchange</th>\n",
       "      <th>Availability</th>\n",
       "      <th>Product URL</th>\n",
       "    </tr>\n",
       "  </thead>\n",
       "  <tbody>\n",
       "  </tbody>\n",
       "</table>\n",
       "</div>"
      ],
      "text/plain": [
       "Empty DataFrame\n",
       "Columns: [Brand Name, Product Name, Rating, Rating Number, Price, Return/Exchange, Availability, Product URL]\n",
       "Index: []"
      ]
     },
     "execution_count": 97,
     "metadata": {},
     "output_type": "execute_result"
    }
   ],
   "source": [
    "amazon_data\n"
   ]
  },
  {
   "cell_type": "markdown",
   "id": "63321640",
   "metadata": {},
   "source": [
    "q3.a python program to access the search bar and search button on images.google.com and scrape 10\n",
    "images each for keywords ‘fruits’, ‘cars’ and ‘Machine Learning’, ‘Guitar’, ‘Cakes’.\n"
   ]
  },
  {
   "cell_type": "code",
   "execution_count": 98,
   "id": "b32ddfed",
   "metadata": {},
   "outputs": [],
   "source": [
    "# connecting to driver\n",
    "driver=webdriver.Chrome(r'C:\\Users\\91939\\Downloads\\selnium\\chromedriver.exe')\n",
    "\n"
   ]
  },
  {
   "cell_type": "code",
   "execution_count": 99,
   "id": "cb065080",
   "metadata": {},
   "outputs": [],
   "source": [
    "url='https://images.google.com/?gws_rd=ssl'\n",
    "driver.get(url)\n"
   ]
  },
  {
   "cell_type": "code",
   "execution_count": 100,
   "id": "d697794f",
   "metadata": {},
   "outputs": [
    {
     "ename": "AttributeError",
     "evalue": "'WebDriver' object has no attribute 'find_element_by_xpath'",
     "output_type": "error",
     "traceback": [
      "\u001b[1;31m---------------------------------------------------------------------------\u001b[0m",
      "\u001b[1;31mAttributeError\u001b[0m                            Traceback (most recent call last)",
      "Input \u001b[1;32mIn [100]\u001b[0m, in \u001b[0;36m<cell line: 1>\u001b[1;34m()\u001b[0m\n\u001b[1;32m----> 1\u001b[0m input1\u001b[38;5;241m=\u001b[39m\u001b[43mdriver\u001b[49m\u001b[38;5;241;43m.\u001b[39;49m\u001b[43mfind_element_by_xpath\u001b[49m(\u001b[38;5;124m\"\u001b[39m\u001b[38;5;124m//input[@class=\u001b[39m\u001b[38;5;124m'\u001b[39m\u001b[38;5;124mgLFyf gsfi\u001b[39m\u001b[38;5;124m'\u001b[39m\u001b[38;5;124m]\u001b[39m\u001b[38;5;124m\"\u001b[39m)\n\u001b[0;32m      2\u001b[0m input1\u001b[38;5;241m.\u001b[39msend_keys(\u001b[38;5;124m\"\u001b[39m\u001b[38;5;124mfruits\u001b[39m\u001b[38;5;124m\"\u001b[39m)\n\u001b[0;32m      3\u001b[0m driver\u001b[38;5;241m.\u001b[39mfind_element_by_xpath(\u001b[38;5;124m\"\u001b[39m\u001b[38;5;124m//button[@class=\u001b[39m\u001b[38;5;124m'\u001b[39m\u001b[38;5;124mTg7LZd\u001b[39m\u001b[38;5;124m'\u001b[39m\u001b[38;5;124m]\u001b[39m\u001b[38;5;124m\"\u001b[39m)\u001b[38;5;241m.\u001b[39mclick()\n",
      "\u001b[1;31mAttributeError\u001b[0m: 'WebDriver' object has no attribute 'find_element_by_xpath'"
     ]
    }
   ],
   "source": [
    "input1=driver.find_element_by_xpath(\"//input[@class='gLFyf gsfi']\")\n",
    "input1.send_keys(\"fruits\")\n",
    "driver.find_element_by_xpath(\"//button[@class='Tg7LZd']\").click()\n",
    "for i in range(1000):\n",
    "    driver.execute_script(\"window.scrollBy(0,10000)\")\n",
    "fruit_url=[]\n",
    "for i in driver.find_elements_by_xpath(\"//div[@class='bRMDJf islir']/img\"):\n",
    "        x=i.get_attribute(\"src\")\n",
    "        if x is not None:\n",
    "            if(x[0:4] == 'http'):\n",
    "                fruit_url.append(x)\n",
    "driver.find_element_by_xpath(\"//input[@class='og3lId']\").clear()\n",
    "driver.find_element_by_xpath(\"//input[@class='og3lId']\").send_keys(\"cars\")\n",
    "driver.find_element_by_xpath(\"//div[@class='XZ5MVe']\").click()\n",
    "for i in range(1000):\n",
    "    driver.execute_script(\"window.scrollBy(0,10000)\")\n",
    "car_url=[]\n",
    "for i in driver.find_elements_by_xpath(\"//div[@class='bRMDJf islir']/img\"):\n",
    "        x=i.get_attribute(\"src\")\n",
    "        if x is not None:\n",
    "            if(x[0:4] == 'http'):\n",
    "                car_url.append(x)\n",
    "driver.find_element_by_xpath(\"//input[@class='og3lId']\").clear()\n",
    "driver.find_element_by_xpath(\"//input[@class='og3lId']\").send_keys(\"machine learning\")\n",
    "driver.find_element_by_xpath(\"//span[@class='n6h3Rc']\").click()\n",
    "for i in range(1000):\n",
    "    driver.execute_script(\"window.scrollBy(0,10000)\")\n",
    "ml_url=[]\n",
    "for i in driver.find_elements_by_xpath(\"//div[@class='bRMDJf islir']/img\"):\n",
    "    x=i.get_attribute(\"src\")\n",
    "    if x is not None:\n",
    "        if(x[0:4]=='http'):\n",
    "            ml_url.append(x)\n",
    "df=pd.DataFrame({})\n",
    "df['Fruits']=fruit_url[0:100]\n",
    "df['Cars']=car_url[0:100]\n",
    "df['Machine learning']=ml_url[0:100]\n",
    "df"
   ]
  },
  {
   "cell_type": "markdown",
   "id": "467be6a6",
   "metadata": {},
   "source": [
    "4. Write a python program to search for a smartphone(e.g.: Oneplus Nord, pixel 4A, etc.) on www.flipkart.com and scrape following details for all the search results displayed on 1st page. Details to be scraped: “Brand Name”, “Smartphone name”, “Colour”, “RAM”, “Storage(ROM)”, “Primary Camera”, “Secondary Camera”, “Display Size”, “Battery Capacity”, “Price”, “Product URL”. Incase if any of the details is missing then replace it by “- “. Save your results in a dataframe and CSV.\n"
   ]
  },
  {
   "cell_type": "code",
   "execution_count": 101,
   "id": "e0b91bc9",
   "metadata": {},
   "outputs": [],
   "source": [
    "import selenium\n",
    "import time\n",
    "from selenium import webdriver\n",
    "driver=webdriver.Chrome(r'C:\\Users\\91939\\Downloads\\selnium\\chromedriver.exe')\n",
    "\n",
    "#driver=webdriver.Chrome(r'chromedriver.exe')\n",
    "driver.get(\"https://www.digit.in/\")\n"
   ]
  },
  {
   "cell_type": "code",
   "execution_count": 102,
   "id": "849eb7f1",
   "metadata": {},
   "outputs": [
    {
     "name": "stdout",
     "output_type": "stream",
     "text": [
      "Enter smartphone name: \n"
     ]
    },
    {
     "ename": "AttributeError",
     "evalue": "'WebDriver' object has no attribute 'find_element_by_xpath'",
     "output_type": "error",
     "traceback": [
      "\u001b[1;31m---------------------------------------------------------------------------\u001b[0m",
      "\u001b[1;31mAttributeError\u001b[0m                            Traceback (most recent call last)",
      "Input \u001b[1;32mIn [102]\u001b[0m, in \u001b[0;36m<cell line: 7>\u001b[1;34m()\u001b[0m\n\u001b[0;32m      5\u001b[0m driver\u001b[38;5;241m.\u001b[39mget(\u001b[38;5;124m'\u001b[39m\u001b[38;5;124mhttps://www.flipkart.com/\u001b[39m\u001b[38;5;124m'\u001b[39m)\n\u001b[0;32m      6\u001b[0m time\u001b[38;5;241m.\u001b[39msleep(\u001b[38;5;241m3\u001b[39m)\n\u001b[1;32m----> 7\u001b[0m \u001b[43mdriver\u001b[49m\u001b[38;5;241;43m.\u001b[39;49m\u001b[43mfind_element_by_xpath\u001b[49m(\u001b[38;5;124m'\u001b[39m\u001b[38;5;124m/html/body/div[2]/div/div/button\u001b[39m\u001b[38;5;124m'\u001b[39m)\u001b[38;5;241m.\u001b[39mclick()\n\u001b[0;32m      8\u001b[0m driver\u001b[38;5;241m.\u001b[39mfind_element_by_xpath(\u001b[38;5;124m'\u001b[39m\u001b[38;5;124m/html/body/div[1]/div/div[1]/div[1]/div[2]/div[2]/form/div/div/input\u001b[39m\u001b[38;5;124m'\u001b[39m)\u001b[38;5;241m.\u001b[39msend_keys(search)\n\u001b[0;32m      9\u001b[0m driver\u001b[38;5;241m.\u001b[39mfind_element_by_xpath(\u001b[38;5;124m'\u001b[39m\u001b[38;5;124m/html/body/div[1]/div/div[1]/div[1]/div[2]/div[2]/form/div/button\u001b[39m\u001b[38;5;124m'\u001b[39m)\u001b[38;5;241m.\u001b[39mclick()\n",
      "\u001b[1;31mAttributeError\u001b[0m: 'WebDriver' object has no attribute 'find_element_by_xpath'"
     ]
    }
   ],
   "source": [
    "search=input('Enter smartphone name: ')\n",
    "driver=webdriver.Chrome(r'C:\\Users\\91939\\Downloads\\selnium\\chromedriver.exe')\n",
    "\n",
    "#driver=webdriver.Chrome(r'C:\\Users\\shaik\\Downloads\\chromedriver_win32\\chromedriver.exe')\n",
    "driver.get('https://www.flipkart.com/')\n",
    "time.sleep(3)\n",
    "driver.find_element_by_xpath('/html/body/div[2]/div/div/button').click()\n",
    "driver.find_element_by_xpath('/html/body/div[1]/div/div[1]/div[1]/div[2]/div[2]/form/div/div/input').send_keys(search)\n",
    "driver.find_element_by_xpath('/html/body/div[1]/div/div[1]/div[1]/div[2]/div[2]/form/div/button').click()\n",
    "time.sleep(3)\n"
   ]
  },
  {
   "cell_type": "code",
   "execution_count": 61,
   "id": "23fdd333",
   "metadata": {},
   "outputs": [],
   "source": [
    "data=[]\n",
    "display=[]\n",
    "storage=[]\n",
    "cam1=[]\n",
    "cam2=[]\n",
    "battery=[]\n",
    "price=[]\n",
    "color=[]\n",
    "name=[]\n",
    "count=0\n"
   ]
  },
  {
   "cell_type": "code",
   "execution_count": 62,
   "id": "f668994e",
   "metadata": {},
   "outputs": [
    {
     "ename": "AttributeError",
     "evalue": "'WebDriver' object has no attribute 'find_elements_by_xpath'",
     "output_type": "error",
     "traceback": [
      "\u001b[1;31m---------------------------------------------------------------------------\u001b[0m",
      "\u001b[1;31mAttributeError\u001b[0m                            Traceback (most recent call last)",
      "Input \u001b[1;32mIn [62]\u001b[0m, in \u001b[0;36m<cell line: 1>\u001b[1;34m()\u001b[0m\n\u001b[1;32m----> 1\u001b[0m \u001b[38;5;28;01mfor\u001b[39;00m i \u001b[38;5;129;01min\u001b[39;00m \u001b[43mdriver\u001b[49m\u001b[38;5;241;43m.\u001b[39;49m\u001b[43mfind_elements_by_xpath\u001b[49m(\u001b[38;5;124m'\u001b[39m\u001b[38;5;124m//ul[@class=\u001b[39m\u001b[38;5;124m\"\u001b[39m\u001b[38;5;124m_1xgFaf\u001b[39m\u001b[38;5;124m\"\u001b[39m\u001b[38;5;124m]\u001b[39m\u001b[38;5;124m'\u001b[39m):\n\u001b[0;32m      2\u001b[0m     \u001b[38;5;28;01mtry\u001b[39;00m:\n\u001b[0;32m      3\u001b[0m         temp\u001b[38;5;241m=\u001b[39mdriver\u001b[38;5;241m.\u001b[39mfind_elements_by_xpath(\u001b[38;5;124m'\u001b[39m\u001b[38;5;124m//div[@class=\u001b[39m\u001b[38;5;124m\"\u001b[39m\u001b[38;5;124m\"\u001b[39m\u001b[38;5;124m]\u001b[39m\u001b[38;5;124m'\u001b[39m)[count]\u001b[38;5;241m.\u001b[39mtext\u001b[38;5;241m.\u001b[39msplit(\u001b[38;5;124m'\u001b[39m\u001b[38;5;124m,\u001b[39m\u001b[38;5;124m'\u001b[39m)[\u001b[38;5;241m0\u001b[39m]\n",
      "\u001b[1;31mAttributeError\u001b[0m: 'WebDriver' object has no attribute 'find_elements_by_xpath'"
     ]
    }
   ],
   "source": [
    "for i in driver.find_elements_by_xpath('//ul[@class=\"_1xgFaf\"]'):\n",
    "    try:\n",
    "        temp=driver.find_elements_by_xpath('//div[@class=\"\"]')[count].text.split(',')[0]\n",
    "        color.append(temp.split('('))\n",
    "        name.append(temp.split('(')[0])\n",
    "    except IndexError as e:\n",
    "        color.append('-')\n",
    "        name.append('-')\n",
    "    \n",
    "    price.append(driver.find_elements_by_xpath('//div[@class=\"_30jeq3 _1_WHN1\"]')[count].text)\n",
    "    temp=i.text.split('\\n')\n",
    "    storage.append(temp[0].split('|'))\n",
    "    cam1.append(temp[2].split('|')[0])\n",
    "    try:\n",
    "        cam2.append(temp[2].split('|')[1])\n",
    "    except IndexError as e:\n",
    "        cam2.append('-')\n",
    "    display.append(temp[1])\n",
    "    battery.append(temp[3])\n",
    "    count+=1\n",
    "\n",
    "df=pd.DataFrame({'Name':name,'Color':color,'Price':price,'RAM':storage[0],'ROM':storage[1],'Primary Cam':cam1,'Seconday Cam':cam2,'Display':display,'Battery':battery})\n"
   ]
  },
  {
   "cell_type": "code",
   "execution_count": null,
   "id": "a3cf5d0a",
   "metadata": {},
   "outputs": [],
   "source": []
  },
  {
   "cell_type": "code",
   "execution_count": 43,
   "id": "114a0264",
   "metadata": {},
   "outputs": [],
   "source": [
    "laptopname=[]\n",
    "releasedate=[]\n",
    "os=[]\n",
    "display=[]\n",
    "processor=[]\n",
    "memory=[]\n",
    "price=[]\n"
   ]
  },
  {
   "cell_type": "code",
   "execution_count": 44,
   "id": "cd4d394d",
   "metadata": {},
   "outputs": [],
   "source": [
    "for i in urls:\n",
    "    driver.get(i)\n",
    "    time.sleep(5)\n",
    "    try:\n",
    "        laptopname.append(driver.find_element_by_xpath(\"//div[@class='heading-wraper']/h1\").text)\n",
    "    except NoSuchElementException:\n",
    "        laptopname.append('-')\n",
    "    try:\n",
    "        releasedate.append(driver.find_element_by_xpath(\"//div[@class='status-bar only-desktop']/div[2]/b\").text)\n",
    "    except NoSuchElementException:\n",
    "        releasedate.append('-')\n",
    "    try:\n",
    "        os.append(driver.find_element_by_xpath(\"//div[@class='value']\").text)\n",
    "    except NoSuchElementException:\n",
    "        os.append('-')\n",
    "    try:\n",
    "        display.append(driver.find_element_by_xpath(\"//div[@class='Specs-Wrap  notspecs ']/ul/li[2]/div\").text)\n",
    "    except NoSuchElementException:\n",
    "        display.append('-')\n",
    "    try:\n",
    "        processor.append(driver.find_element_by_xpath(\"//div[@class='Specs-Wrap  notspecs ']/ul/li[3]/div\").text)\n",
    "    except NoSuchElementException:\n",
    "        processor.append('-')\n",
    "    try:\n",
    "        memory.append(driver.find_element_by_xpath(\"//div[@class='Specs-Wrap  notspecs ']/ul/li[4]/div\").text)\n",
    "    except NoSuchElementException:\n",
    "        memory.append('-')\n",
    "    try:\n",
    "        price.append(driver.find_element_by_xpath(\"//div[@class='Block-price']/b\").text)\n",
    "    except NoSuchElementException:\n",
    "        price.append('-')\n"
   ]
  },
  {
   "cell_type": "code",
   "execution_count": 45,
   "id": "92ee3fba",
   "metadata": {},
   "outputs": [
    {
     "data": {
      "text/html": [
       "<div>\n",
       "<style scoped>\n",
       "    .dataframe tbody tr th:only-of-type {\n",
       "        vertical-align: middle;\n",
       "    }\n",
       "\n",
       "    .dataframe tbody tr th {\n",
       "        vertical-align: top;\n",
       "    }\n",
       "\n",
       "    .dataframe thead th {\n",
       "        text-align: right;\n",
       "    }\n",
       "</style>\n",
       "<table border=\"1\" class=\"dataframe\">\n",
       "  <thead>\n",
       "    <tr style=\"text-align: right;\">\n",
       "      <th></th>\n",
       "      <th>laptopname</th>\n",
       "      <th>releasedate</th>\n",
       "      <th>os</th>\n",
       "      <th>display</th>\n",
       "      <th>processor</th>\n",
       "      <th>memory</th>\n",
       "      <th>price</th>\n",
       "    </tr>\n",
       "  </thead>\n",
       "  <tbody>\n",
       "  </tbody>\n",
       "</table>\n",
       "</div>"
      ],
      "text/plain": [
       "Empty DataFrame\n",
       "Columns: [laptopname, releasedate, os, display, processor, memory, price]\n",
       "Index: []"
      ]
     },
     "execution_count": 45,
     "metadata": {},
     "output_type": "execute_result"
    }
   ],
   "source": [
    "import pandas as pd\n",
    "df=pd.DataFrame({})\n",
    "df['laptopname']=laptopname\n",
    "df['releasedate']=releasedate\n",
    "df['os']=os\n",
    "df['display']=display\n",
    "df['processor']=processor\n",
    "df['memory']=memory\n",
    "df['price']=price\n",
    "df"
   ]
  },
  {
   "cell_type": "markdown",
   "id": "9b0464a4",
   "metadata": {},
   "source": [
    "Q5.Write a program to scrap geospatial coordinates (latitude, longitude) of a city searched on google maps.\n",
    "\n"
   ]
  },
  {
   "cell_type": "code",
   "execution_count": 82,
   "id": "cae538ad",
   "metadata": {},
   "outputs": [
    {
     "ename": "SyntaxError",
     "evalue": "invalid syntax (2144865175.py, line 13)",
     "output_type": "error",
     "traceback": [
      "\u001b[1;36m  Input \u001b[1;32mIn [82]\u001b[1;36m\u001b[0m\n\u001b[1;33m    except Exception as e\u001b[0m\n\u001b[1;37m                         ^\u001b[0m\n\u001b[1;31mSyntaxError\u001b[0m\u001b[1;31m:\u001b[0m invalid syntax\n"
     ]
    }
   ],
   "source": [
    "try:\n",
    "    loc=input('Enter Name of the place to get Coordinates: ')\n",
    "    driver=webdriver.Chrome(r'C:\\Users\\91939\\Downloads\\selnium\\chromedriver.exe')\n",
    "    driver.get('https://www.google.co.in/maps')\n",
    "    time.sleep(3)\n",
    "    driver.find_element_by_xpath('//*[@id=\"searchboxinput\"]').send_keys(loc)\n",
    "    driver.find_element_by_xpath('//*[@id=\"searchbox-searchbutton\"]').click()\n",
    "    time.sleep(3)\n",
    "    coordinates=driver.current_url.split('/')[6]\n",
    "    driver.close()\n",
    "    coordinates=coordinates.replace('@','').split(',')\n",
    "    print('Latitude:',coordinates[0],' , Longitude:',coordinates[1])\n",
    "except Exception as e\n",
    "        print(\"Error: \"str(e))"
   ]
  },
  {
   "cell_type": "markdown",
   "id": "a6f75e90",
   "metadata": {},
   "source": [
    "Q6.Write a program to scrap details of all the funding deals for second quarter (i.e Jan 21 – March 21) from trak.in.\n",
    "\n"
   ]
  },
  {
   "cell_type": "code",
   "execution_count": 49,
   "id": "be93602a",
   "metadata": {},
   "outputs": [
    {
     "ename": "AttributeError",
     "evalue": "'WebDriver' object has no attribute 'find_element_by_xpath'",
     "output_type": "error",
     "traceback": [
      "\u001b[1;31m---------------------------------------------------------------------------\u001b[0m",
      "\u001b[1;31mAttributeError\u001b[0m                            Traceback (most recent call last)",
      "Input \u001b[1;32mIn [49]\u001b[0m, in \u001b[0;36m<cell line: 5>\u001b[1;34m()\u001b[0m\n\u001b[0;32m      3\u001b[0m driver\u001b[38;5;241m.\u001b[39mget(\u001b[38;5;124m'\u001b[39m\u001b[38;5;124mhttps://trak.in/\u001b[39m\u001b[38;5;124m'\u001b[39m)\n\u001b[0;32m      4\u001b[0m time\u001b[38;5;241m.\u001b[39msleep(\u001b[38;5;241m3\u001b[39m)\n\u001b[1;32m----> 5\u001b[0m \u001b[43mdriver\u001b[49m\u001b[38;5;241;43m.\u001b[39;49m\u001b[43mfind_element_by_xpath\u001b[49m(\u001b[38;5;124m'\u001b[39m\u001b[38;5;124m/html/body/div[1]/header/div[2]/div/div/div/div/nav/ul/li[9]\u001b[39m\u001b[38;5;124m'\u001b[39m)\u001b[38;5;241m.\u001b[39mclick()\n\u001b[0;32m      6\u001b[0m driver\u001b[38;5;241m.\u001b[39mget(driver\u001b[38;5;241m.\u001b[39mfind_element_by_xpath(\u001b[38;5;124m'\u001b[39m\u001b[38;5;124m/html/body/div[1]/header/div[2]/div/div/div/div/nav/ul/li[9]/ul/li[1]/a\u001b[39m\u001b[38;5;124m'\u001b[39m)\u001b[38;5;241m.\u001b[39mget_attribute(\u001b[38;5;124m'\u001b[39m\u001b[38;5;124mhref\u001b[39m\u001b[38;5;124m'\u001b[39m))\n\u001b[0;32m      7\u001b[0m time\u001b[38;5;241m.\u001b[39msleep(\u001b[38;5;241m3\u001b[39m)\n",
      "\u001b[1;31mAttributeError\u001b[0m: 'WebDriver' object has no attribute 'find_element_by_xpath'"
     ]
    }
   ],
   "source": [
    "deals=[]\n",
    "driver=webdriver.Chrome(r'C:\\Users\\91939\\Downloads\\selnium\\chromedriver.exe')\n",
    "driver.get('https://trak.in/')\n",
    "time.sleep(3)\n",
    "driver.find_element_by_xpath('/html/body/div[1]/header/div[2]/div/div/div/div/nav/ul/li[9]').click()\n",
    "driver.get(driver.find_element_by_xpath('/html/body/div[1]/header/div[2]/div/div/div/div/nav/ul/li[9]/ul/li[1]/a').get_attribute('href'))\n",
    "time.sleep(3)\n",
    "for i in driver.find_elements_by_xpath('//tbody[@class=\"row-hover\"]'):\n",
    "    temp=i.text.split('\\n') \n",
    "    for j in temp:\n",
    "        date=j.split()[1]\n",
    "        if date.split('/')[1]=='04' or date.split('/')[1]=='05' or date.split('/')[1]=='06':\n",
    "            deals.append(j.split())\n",
    "        else:\n",
    "            break\n",
    "    #for j in driver.find_elements_by_xpath('//tr[@role=\"row\"]'):\n",
    "#driver.close()\n",
    "pd.DataFrame(deals)\n"
   ]
  },
  {
   "cell_type": "markdown",
   "id": "0f107ecb",
   "metadata": {},
   "source": [
    "Q7.Write a program to scrap all the available details of best gaming laptops from digit.in.\n",
    "\n"
   ]
  },
  {
   "cell_type": "code",
   "execution_count": 52,
   "id": "1e46ac95",
   "metadata": {},
   "outputs": [
    {
     "ename": "AttributeError",
     "evalue": "'WebDriver' object has no attribute 'find_element_by_xpath'",
     "output_type": "error",
     "traceback": [
      "\u001b[1;31m---------------------------------------------------------------------------\u001b[0m",
      "\u001b[1;31mAttributeError\u001b[0m                            Traceback (most recent call last)",
      "Input \u001b[1;32mIn [52]\u001b[0m, in \u001b[0;36m<cell line: 14>\u001b[1;34m()\u001b[0m\n\u001b[0;32m     12\u001b[0m driver\u001b[38;5;241m.\u001b[39mget(\u001b[38;5;124m'\u001b[39m\u001b[38;5;124mhttps://digit.in/\u001b[39m\u001b[38;5;124m'\u001b[39m)\n\u001b[0;32m     13\u001b[0m time\u001b[38;5;241m.\u001b[39msleep(\u001b[38;5;241m5\u001b[39m)\n\u001b[1;32m---> 14\u001b[0m \u001b[43mdriver\u001b[49m\u001b[38;5;241;43m.\u001b[39;49m\u001b[43mfind_element_by_xpath\u001b[49m(\u001b[38;5;124m'\u001b[39m\u001b[38;5;124m/html/body/div[3]/div/div[2]/div[2]/div[4]/ul/li[9]/a\u001b[39m\u001b[38;5;124m'\u001b[39m)\u001b[38;5;241m.\u001b[39mclick()\n\u001b[0;32m     15\u001b[0m time\u001b[38;5;241m.\u001b[39msleep(\u001b[38;5;241m5\u001b[39m)\n\u001b[0;32m     16\u001b[0m laptop\u001b[38;5;241m=\u001b[39m[]\n",
      "\u001b[1;31mAttributeError\u001b[0m: 'WebDriver' object has no attribute 'find_element_by_xpath'"
     ]
    }
   ],
   "source": [
    "# import all required libraries\n",
    "import selenium\n",
    "from selenium import webdriver\n",
    "import pandas as pd\n",
    "from selenium.webdriver.common.by import By\n",
    "import warnings\n",
    "warnings.filterwarnings(\"ignore\")\n",
    "import time\n",
    "\n",
    "driver=webdriver.Chrome(r'C:\\Users\\91939\\Downloads\\selnium\\chromedriver.exe')\n",
    "\n",
    "driver.get('https://digit.in/')\n",
    "time.sleep(5)\n",
    "driver.find_element_by_xpath('/html/body/div[3]/div/div[2]/div[2]/div[4]/ul/li[9]/a').click()\n",
    "time.sleep(5)\n",
    "laptop=[]\n",
    "temp\n",
    "for i in driver.find_elements_by_xpath('//div[@class=\"Spcs-details\"]'):\n",
    "    temp=i.text.split(':')\n",
    "    data=[]\n",
    "    for j in range(1,len(temp)):\n",
    "        data.append(temp[j].split('\\n')[0])\n",
    "    laptop.append(data)\n",
    "df=pd.DataFrame(laptop)    \n",
    "\n",
    "brand=[]\n",
    "element=driver.find_element_by_xpath('//table[@id=\"summtable\"]').text.split('\\n')[1:]\n",
    "for k in element:\n",
    "    temp=k.replace('Amazon','').replace('Flipkart','').replace('Croma','').split('₹')[0]\n",
    "    brand.append(temp)    \n",
    "\n",
    "driver.close()\n",
    "pd.DataFrame({'Brand':brand,'OS':df.iloc[:,0],'Display':df.iloc[:,1],'Processor':df.iloc[:,2],'Memory':df.iloc[:,3],'Weight':df.iloc[:,4],'Dimension':df.iloc[:,5],'Graphics Processor':df.iloc[:,6]})\n"
   ]
  },
  {
   "cell_type": "markdown",
   "id": "036b47a5",
   "metadata": {},
   "source": [
    "Q8.Write a python program to scrape the details for all billionaires from www.forbes.com. Details to be scrapped: “Rank”, “Name”, “Net worth”, “Age”, “Citizenship”, “Source”, “Industry”.\n",
    "\n"
   ]
  },
  {
   "cell_type": "code",
   "execution_count": 55,
   "id": "cce0d836",
   "metadata": {},
   "outputs": [
    {
     "ename": "AttributeError",
     "evalue": "'WebDriver' object has no attribute 'find_element_by_xpath'",
     "output_type": "error",
     "traceback": [
      "\u001b[1;31m---------------------------------------------------------------------------\u001b[0m",
      "\u001b[1;31mAttributeError\u001b[0m                            Traceback (most recent call last)",
      "Input \u001b[1;32mIn [55]\u001b[0m, in \u001b[0;36m<cell line: 6>\u001b[1;34m()\u001b[0m\n\u001b[0;32m      4\u001b[0m driver\u001b[38;5;241m.\u001b[39mget(\u001b[38;5;124m'\u001b[39m\u001b[38;5;124mhttps://www.forbes.com./\u001b[39m\u001b[38;5;124m'\u001b[39m)\n\u001b[0;32m      5\u001b[0m time\u001b[38;5;241m.\u001b[39msleep(\u001b[38;5;241m5\u001b[39m)\n\u001b[1;32m----> 6\u001b[0m \u001b[43mdriver\u001b[49m\u001b[38;5;241;43m.\u001b[39;49m\u001b[43mfind_element_by_xpath\u001b[49m(\u001b[38;5;124m'\u001b[39m\u001b[38;5;124m/html/body/div[1]/header/nav/div[1]/button[1]\u001b[39m\u001b[38;5;124m'\u001b[39m)\u001b[38;5;241m.\u001b[39mclick()\n\u001b[0;32m      7\u001b[0m driver\u001b[38;5;241m.\u001b[39mfind_element_by_xpath(\u001b[38;5;124m'\u001b[39m\u001b[38;5;124m/html/body/div[1]/header/nav/div[3]/ul/li[1]\u001b[39m\u001b[38;5;124m'\u001b[39m)\u001b[38;5;241m.\u001b[39mclick()\n\u001b[0;32m      8\u001b[0m driver\u001b[38;5;241m.\u001b[39mfind_element_by_xpath(\u001b[38;5;124m'\u001b[39m\u001b[38;5;124m/html/body/div[1]/header/nav/div[3]/ul/li[1]/div[2]/ul/li[2]/a\u001b[39m\u001b[38;5;124m'\u001b[39m)\u001b[38;5;241m.\u001b[39mclick()\n",
      "\u001b[1;31mAttributeError\u001b[0m: 'WebDriver' object has no attribute 'find_element_by_xpath'"
     ]
    }
   ],
   "source": [
    "driver=webdriver.Chrome(r'C:\\Users\\91939\\Downloads\\selnium\\chromedriver.exe')\n",
    "\n",
    "driver.get('https://www.forbes.com./')\n",
    "time.sleep(5)\n",
    "driver.find_element_by_xpath('/html/body/div[1]/header/nav/div[1]/button[1]').click()\n",
    "driver.find_element_by_xpath('/html/body/div[1]/header/nav/div[3]/ul/li[1]').click()\n",
    "driver.find_element_by_xpath('/html/body/div[1]/header/nav/div[3]/ul/li[1]/div[2]/ul/li[2]/a').click()\n",
    "time.sleep(5)\n",
    "\n",
    "data=[]\n",
    "for i in driver.find_elements_by_xpath('//div[@role=\"row\"]'):\n",
    "    data.append(i.text.split('\\n'))\n",
    "driver.close()\n",
    "pd.DataFrame(data[1:],columns=['Rank', 'Name', 'Net worth', 'Age', 'Citizenship', 'Source', 'Industry']).set_index('Rank')\n"
   ]
  },
  {
   "cell_type": "markdown",
   "id": "a6f04c87",
   "metadata": {},
   "source": [
    "9. Write a program to extract at least 500 Comments, Comment upvote and time when comment was posted\n",
    "from any YouTube Video.\n"
   ]
  },
  {
   "cell_type": "markdown",
   "id": "a37a4c36",
   "metadata": {},
   "source": [
    "10. Write a python program to scrape a data for all available Hostels from https://www.hostelworld.com/ in\n",
    "“London” location. You have to scrape hostel name, distance from city centre, ratings, total reviews,\n",
    "overall reviews, privates from price, dorms from price, facilities and property description.\n",
    "\n"
   ]
  },
  {
   "cell_type": "code",
   "execution_count": 57,
   "id": "bc3d74fe",
   "metadata": {},
   "outputs": [
    {
     "ename": "AttributeError",
     "evalue": "'WebDriver' object has no attribute 'find_element_by_xpath'",
     "output_type": "error",
     "traceback": [
      "\u001b[1;31m---------------------------------------------------------------------------\u001b[0m",
      "\u001b[1;31mAttributeError\u001b[0m                            Traceback (most recent call last)",
      "Input \u001b[1;32mIn [57]\u001b[0m, in \u001b[0;36m<cell line: 5>\u001b[1;34m()\u001b[0m\n\u001b[0;32m      3\u001b[0m driver\u001b[38;5;241m.\u001b[39mget(\u001b[38;5;124m'\u001b[39m\u001b[38;5;124mhttps://www.hostelworld.com/\u001b[39m\u001b[38;5;124m'\u001b[39m)\n\u001b[0;32m      4\u001b[0m time\u001b[38;5;241m.\u001b[39msleep(\u001b[38;5;241m2\u001b[39m)\n\u001b[1;32m----> 5\u001b[0m \u001b[43mdriver\u001b[49m\u001b[38;5;241;43m.\u001b[39;49m\u001b[43mfind_element_by_xpath\u001b[49m(\u001b[38;5;124m'\u001b[39m\u001b[38;5;124m/html/body/div[3]/div/div/div[1]/div[2]/div/div[2]/div[1]/header/div/button\u001b[39m\u001b[38;5;124m'\u001b[39m)\u001b[38;5;241m.\u001b[39mclick()\n\u001b[0;32m      6\u001b[0m driver\u001b[38;5;241m.\u001b[39mget(\u001b[38;5;124m'\u001b[39m\u001b[38;5;124mhttps://www.hostelworld.com/hostels\u001b[39m\u001b[38;5;124m'\u001b[39m)\n\u001b[0;32m      7\u001b[0m time\u001b[38;5;241m.\u001b[39msleep(\u001b[38;5;241m2\u001b[39m)\n",
      "\u001b[1;31mAttributeError\u001b[0m: 'WebDriver' object has no attribute 'find_element_by_xpath'"
     ]
    }
   ],
   "source": [
    "\n",
    "driver=webdriver.Chrome(r'C:\\Users\\91939\\Downloads\\selnium\\chromedriver.exe')\n",
    "\n",
    "driver.get('https://www.hostelworld.com/')\n",
    "time.sleep(2)\n",
    "driver.find_element_by_xpath('/html/body/div[3]/div/div/div[1]/div[2]/div/div[2]/div[1]/header/div/button').click()\n",
    "driver.get('https://www.hostelworld.com/hostels')\n",
    "time.sleep(2)\n",
    "driver.find_element_by_xpath('//*[@id=\"home-search-keywords\"]').send_keys('London')\n",
    "time.sleep(2)\n",
    "driver.find_element_by_xpath('//button[@class=\"btn btn-primary btn-block\"]').click()\n",
    "time.sleep(2)\n"
   ]
  },
  {
   "cell_type": "code",
   "execution_count": 58,
   "id": "6bd42a26",
   "metadata": {},
   "outputs": [
    {
     "ename": "AttributeError",
     "evalue": "'WebDriver' object has no attribute 'find_elements_by_xpath'",
     "output_type": "error",
     "traceback": [
      "\u001b[1;31m---------------------------------------------------------------------------\u001b[0m",
      "\u001b[1;31mAttributeError\u001b[0m                            Traceback (most recent call last)",
      "Input \u001b[1;32mIn [58]\u001b[0m, in \u001b[0;36m<cell line: 2>\u001b[1;34m()\u001b[0m\n\u001b[0;32m      1\u001b[0m name\u001b[38;5;241m=\u001b[39m[]\n\u001b[1;32m----> 2\u001b[0m \u001b[38;5;28;01mfor\u001b[39;00m i \u001b[38;5;129;01min\u001b[39;00m \u001b[43mdriver\u001b[49m\u001b[38;5;241;43m.\u001b[39;49m\u001b[43mfind_elements_by_xpath\u001b[49m(\u001b[38;5;124m'\u001b[39m\u001b[38;5;124m//h2[@class=\u001b[39m\u001b[38;5;124m\"\u001b[39m\u001b[38;5;124mtitle title-6\u001b[39m\u001b[38;5;124m\"\u001b[39m\u001b[38;5;124m]\u001b[39m\u001b[38;5;124m'\u001b[39m):\n\u001b[0;32m      3\u001b[0m     name\u001b[38;5;241m.\u001b[39mappend(i\u001b[38;5;241m.\u001b[39mtext)\n\u001b[0;32m      4\u001b[0m \u001b[38;5;28mlen\u001b[39m(name)\n",
      "\u001b[1;31mAttributeError\u001b[0m: 'WebDriver' object has no attribute 'find_elements_by_xpath'"
     ]
    }
   ],
   "source": [
    "name=[]\n",
    "for i in driver.find_elements_by_xpath('//h2[@class=\"title title-6\"]'):\n",
    "    name.append(i.text)\n",
    "len(name)\n",
    "\n",
    "distance=[]\n",
    "for i in driver.find_elements_by_xpath('//span[@class=\"description\"]'):\n",
    "    distance.append(i.text)\n",
    "\n",
    "rating=[]\n",
    "for i in driver.find_elements_by_xpath('//div[@class=\"score orange big\"]'):\n",
    "    rating.append(i.text)\n",
    "\n",
    "review=[]\n",
    "Oreview=[]\n",
    "for i in driver.find_elements_by_xpath('//div[@class=\"summary orange\"]'):\n",
    "    temp=i.text.split()[-3]\n",
    "    review.append(temp)\n",
    "    temp=i.text.replace('\\n','').split(temp)[0]\n",
    "    Oreview.append(temp)\n",
    "review\n",
    "\n",
    "pd.DataFrame({'Name':name,'Distance From Centre':distance,'Rating':rating,'Overall Review':Oreview,'Total Review':review})\n"
   ]
  },
  {
   "cell_type": "code",
   "execution_count": null,
   "id": "8c8ae552",
   "metadata": {},
   "outputs": [],
   "source": []
  }
 ],
 "metadata": {
  "kernelspec": {
   "display_name": "Python 3 (ipykernel)",
   "language": "python",
   "name": "python3"
  },
  "language_info": {
   "codemirror_mode": {
    "name": "ipython",
    "version": 3
   },
   "file_extension": ".py",
   "mimetype": "text/x-python",
   "name": "python",
   "nbconvert_exporter": "python",
   "pygments_lexer": "ipython3",
   "version": "3.9.12"
  }
 },
 "nbformat": 4,
 "nbformat_minor": 5
}
